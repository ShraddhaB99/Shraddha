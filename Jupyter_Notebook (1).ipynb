{
 "cells": [
  {
   "cell_type": "markdown",
   "metadata": {},
   "source": [
    "<center>\n",
    "    <img src=\"https://cf-courses-data.s3.us.cloud-object-storage.appdomain.cloud/IBMDeveloperSkillsNetwork-DS0105EN-SkillsNetwork/labs/Module2/images/SN_web_lightmode.png\" width=\"300\" alt=\"cognitiveclass.ai logo\">\n",
    "</center>\n"
   ]
  },
  {
   "cell_type": "markdown",
   "metadata": {},
   "source": [
    "#### Add your code below following the instructions given in the course\n"
   ]
  },
  {
   "cell_type": "markdown",
   "metadata": {},
   "source": [
    "Learning Data Science"
   ]
  },
  {
   "cell_type": "markdown",
   "metadata": {},
   "source": [
    "Introduction:\n",
    "Data Science is a captivating discipline that empowers us to unravel the mysteries hidden within vast and complex datasets. In an era characterized by an exponential growth of digital information, Data Science has emerged as the key to unlocking valuable insights and driving innovation across a myriad of industries.\n",
    "At its core, Data Science is an interdisciplinary field that combines the prowess of statistics, mathematics, computer science, and domain expertise to extract knowledge from raw data. It equips us with the tools and techniques to collect, process, and analyze data, enabling us to make data-driven decisions, predict future trends, and uncover patterns that drive success."
   ]
  },
  {
   "cell_type": "markdown",
   "metadata": {},
   "source": [
    "List of data science languages\n",
    "1. Python\n",
    "2. R\n",
    "3. SQL\n",
    "4. Julia\n",
    "5. Scala\n",
    "6. Java\n",
    "7. C/C++"
   ]
  },
  {
   "cell_type": "markdown",
   "metadata": {},
   "source": [
    "List of Libraries\n",
    "NumPy\n",
    "Pandas\n",
    "Matplotlib\n",
    "Seaborn\n",
    "SciPy\n",
    "scikit-learn\n",
    "TensorFlow\n",
    "Keras\n",
    "PyTorch\n",
    "Statsmodels\n",
    "NLTK (Natural Language Toolkit)\n",
    "OpenCV"
   ]
  },
  {
   "cell_type": "markdown",
   "metadata": {},
   "source": [
    "List of tools\n",
    "Jupyter Notebooks\n",
    "RStudio\n",
    "Apache Hadoop\n",
    "Apache Spark\n",
    "Tableau\n",
    "Power BI\n",
    "RapidMiner\n",
    "KNIME\n",
    "D3.js\n",
    "Excel\n",
    "SAS\n",
    "IBM SPSS\n",
    "Orange\n",
    "Weka\n",
    "Alteryx\n",
    "DataRobot\n",
    "Apache Flink"
   ]
  },
  {
   "cell_type": "markdown",
   "metadata": {},
   "source": [
    "Introduction to Arithmetic Expression Examples\n",
    "Arithmetic expressions are fundamental mathematical representations that involve operations such as addition, subtraction, multiplication, and division. In the world of mathematics and computer programming, arithmetic expressions play a pivotal role in performing numerical calculations and solving problems.\n",
    "\n",
    "Addition:\n",
    "\n",
    "Example: 5 + 3\n",
    "Result: 8\n",
    "Subtraction:\n",
    "\n",
    "Example: 10 - 4\n",
    "Result: 6\n",
    "Multiplication:\n",
    "\n",
    "Example: 3 * 6\n",
    "Result: 18\n",
    "Division:\n",
    "\n",
    "Example: 20 / 5\n",
    "Result: 4\n",
    "Mixed Operations:\n",
    "\n",
    "Example: 2 + 3 * 4\n",
    "Result: 14 (The multiplication is performed before the addition)\n",
    "Parentheses for Priority:\n",
    "\n",
    "Example: (6 + 2) * 4\n",
    "Result: 32 (The addition inside the parentheses is performed first)"
   ]
  },
  {
   "cell_type": "code",
   "execution_count": 1,
   "metadata": {
    "tags": []
   },
   "outputs": [
    {
     "name": "stdout",
     "output_type": "stream",
     "text": [
      "Multiplication Result: 15\n",
      "Addition Result: 14\n"
     ]
    }
   ],
   "source": [
    "# Multiplication\n",
    "num1 = 5\n",
    "num2 = 3\n",
    "result_multiply = num1 * num2\n",
    "\n",
    "print(\"Multiplication Result:\", result_multiply)\n",
    "\n",
    "# Addition\n",
    "num3 = 10\n",
    "num4 = 4\n",
    "result_addition = num3 + num4\n",
    "\n",
    "print(\"Addition Result:\", result_addition)"
   ]
  },
  {
   "cell_type": "code",
   "execution_count": 2,
   "metadata": {
    "tags": []
   },
   "outputs": [
    {
     "name": "stdout",
     "output_type": "stream",
     "text": [
      "150 minutes is equal to 2.5 hours.\n"
     ]
    }
   ],
   "source": [
    "# Function to convert minutes to hours\n",
    "def convert_minutes_to_hours(minutes):\n",
    "    hours = minutes / 60\n",
    "    return hours\n",
    "\n",
    "# Example usage\n",
    "minutes_input = 150\n",
    "hours_output = convert_minutes_to_hours(minutes_input)\n",
    "\n",
    "print(minutes_input, \"minutes is equal to\", hours_output, \"hours.\")"
   ]
  },
  {
   "cell_type": "markdown",
   "metadata": {},
   "source": [
    "Objectives\n",
    "In this Data Science tutorial, we aim to achieve the following objectives:\n",
    "\n",
    "Understanding Data Science Fundamentals: We will grasp the foundational concepts of Data Science, including its principles, methodologies, and real-world applications.\n",
    "\n",
    "Exploring Data Manipulation Techniques: Learn how to acquire, clean, and preprocess data using popular Python libraries like NumPy and Pandas.\n",
    "\n",
    "Mastering Data Visualization: Gain expertise in creating insightful visualizations using Matplotlib and Seaborn to effectively communicate and interpret data.\n",
    "\n",
    "Embracing Machine Learning Algorithms: Dive into the world of machine learning with scikit-learn, exploring classification, regression, clustering, and more.\n",
    "\n",
    "Unleashing the Power of Deep Learning: Discover the capabilities of TensorFlow and Keras for building and training advanced neural networks."
   ]
  },
  {
   "cell_type": "markdown",
   "metadata": {},
   "source": [
    "The name of the author is Shraddha Barua"
   ]
  }
 ],
 "metadata": {
  "kernelspec": {
   "display_name": "Python",
   "language": "python",
   "name": "conda-env-python-py"
  },
  "language_info": {
   "codemirror_mode": {
    "name": "ipython",
    "version": 3
   },
   "file_extension": ".py",
   "mimetype": "text/x-python",
   "name": "python",
   "nbconvert_exporter": "python",
   "pygments_lexer": "ipython3",
   "version": "3.7.12"
  }
 },
 "nbformat": 4,
 "nbformat_minor": 4
}
